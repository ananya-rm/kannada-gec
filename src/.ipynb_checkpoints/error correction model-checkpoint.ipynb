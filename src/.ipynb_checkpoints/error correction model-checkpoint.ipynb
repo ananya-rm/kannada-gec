{
 "cells": [
  {
   "cell_type": "code",
   "execution_count": 226,
   "id": "f0c54c8d",
   "metadata": {},
   "outputs": [],
   "source": [
    "# from hunspell import Hunspell\n",
    "\n",
    "# def create_kannada_spell_checker():\n",
    "#     # Replace 'path/to/kn_IN.dic' and 'path/to/kn_IN.aff' with the actual paths\n",
    "#     kannada_dict_path = \"C:/Users/anany/Desktop/project/kn\"\n",
    "#     kannada_affix_path = \"C:/Users/anany/Desktop/project/kn\"\n",
    "#     kannada_spell_checker = Hunspell(kannada_affix_path, kannada_dict_path)\n",
    "#     return kannada_spell_checker\n",
    "\n",
    "# def spell_check_kannada(text, kannada_spell_checker):\n",
    "#     tokens = text.strip().split()\n",
    "#     suggestions = []\n",
    "#     for token in tokens:\n",
    "#         if not kannada_spell_checker.spell(token):\n",
    "#             correction_suggestions = kannada_spell_checker.suggest(token)\n",
    "#             suggestions.extend(correction_suggestions)\n",
    "#     return suggestions\n",
    "\n",
    "# # Example usage:\n",
    "# kannada_spell_checker = create_kannada_spell_checker()\n",
    "# kannada_text = '  ನೆರಮನೆ ಹೆಣ್ಣುಮಕ್ಕಳಲ್ಲಿ ಅವಳು ಚೆನ್ನಾಗಿದ್ದಾಳೆ  '\n",
    "# corrections = spell_check_kannada(kannada_text, kannada_spell_checker)\n",
    "\n",
    "# print(f\"Original Kannada text: {kannada_text}\")\n",
    "# print(f\"Suggestions for corrections: {corrections}\")\n"
   ]
  },
  {
   "cell_type": "code",
   "execution_count": 35,
   "id": "1e90866b",
   "metadata": {},
   "outputs": [
    {
     "name": "stdout",
     "output_type": "stream",
     "text": [
      "ಅವನು ಹೋಗು [24]\n"
     ]
    }
   ],
   "source": [
    "\n",
    "complex_suffixes = {\n",
    "\n",
    "\n",
    "#PAST TENSE simple past tense 1st person singular\n",
    "1 : [\"ಳಿದ್ದೆ\",\"ಳಲಿಲ್ಲ\",\"ಳಿದ್ದೆನ\",\"ಳಿದೆನ\"], #---> append ಳು\n",
    "\n",
    "#simple past tense 1st person plural\n",
    "2 : [\"ದಿದೆವು\",\"ದಲಿಲ್ಲ\",\"ದಿದೆವ\"],# ---> append ದು\n",
    "\n",
    "#simple past tense 2nd person\n",
    "3 : [\"ಯಲಿಲ್ಲ\"],\n",
    "\n",
    "#simple past tense 3rd person plural\n",
    "4 : [\"ಯಾಗಿದ್ದರು\",\"ವಾಗಿದ್ದರು\",\"ತಾಗಿದ್ದರು\",\"ದಾಗಿದ್ದರು\",\"ದಿದ್ದರು\",\"ಲಿಲ್ಲ\",\"ದ್ದರಾ\"],\n",
    "\n",
    "#simple past tense 3rd person singular\n",
    "5 : [\"ಯಲಿಲ್ಲ\",\"ಲಿಲ್ಲ\",\"ದನ\",\"ದನಾ\"],\n",
    "\n",
    "\n",
    "#past perfect tense 1st person singular\n",
    "6 : [\"ದಿದ್ದೆ\",\"ಡಿದ್ದೆ\",\"ರಲಿಲ್ಲ\",\"ದ್ದೆನ\",\"ದ್ದೆನಾ\"],\n",
    "\n",
    "#past perfect tennse 1st person plural\n",
    "7 : [\"ದಿದ್ವಿ\",\"ರಲಿಲ್ಲ\",\"ದಿದ್ವಾ\"],\n",
    "\n",
    "#past perfect, 2nd \n",
    "8 : [\"ದಿದ್ದೆ\",\"ಯುತ್ತಿದ್ದೆ\",\"ತ್ತಿದ್ದವರು\",\"ತ್ತಿದ್ದೆ\",\"ತಿದ್ದೆ\",\"ಯುತ್ತದೆ\",\"ತ್ತದೆ\",\"ಯುತ್ತಿರಲಿಲ್ಲ\",\"ತ್ತಿರಲಿಲ್ಲ\",\"ತಿರಲಿಲ್ಲ\",\"ದಿರಲಿಲ್ಲ\",\"ದ್ದಿದ್ದಾ\",\"ಯುತ್ತಿದ್ದಾ\",\"ತ್ತಿದ್ದಾ\"],\n",
    "\n",
    "#past perfect 3rd plural\n",
    "9 : [\"ದಿದ್ದರು\"],\n",
    "\n",
    "#past perfect 3rd singular\n",
    "10 : [\"ದಿದ್ದ\",\"ದಿದ್ದನು\",\"ದಿದ್ದಳು\"],\n",
    "\n",
    "#PAST CONTINUOUS simple tense 1st singular\n",
    "11 : [\"ತ್ತಿದ್ದೆನೆ\"],\n",
    "\n",
    "#past continuous 1st plural\n",
    "12 : [\"ಯುತ್ತಿದ್ದೆವು\",\"ತ್ತಿದ್ದೆವು\",\"ಯುತ್ತಿದ್ದೆವ\",\"ತ್ತಿದ್ದೆವ\"],\n",
    "\n",
    "#past continuous 2nd \n",
    "13 : [\"ತ್ತಿದ್ದೆ\",\"ತಿರಲಿಲ್ಲ\",\"ತ್ತಿದ್ದ\",\"ತ್ತಿದ್ದಾ\"],\n",
    "\n",
    "#past continuous 3rd plural\n",
    "14 : [\"ತ್ತಿದ್ದರು\",\"ತ್ತಿರಲಿಲ್ಲ\",\"ತ್ತಿದ್ದರ\",\"ತ್ತಿದ್ದಾರಾ\"],\n",
    "\n",
    "#past continuous 3rd singular\n",
    "15 : [\"ಯುತ್ತಿದ್ದನ\",\"ಯುತ್ತಿದ್ದನಾ\",\"ಯುತ್ತಿದ್ದಳು\",\"ಯುತ್ತಿದ್ದನು\",\"ಯುತ್ತಿದ್ದಳ\",\"ಯುತ್ತಿದ್ದನ\",\"ಯುತ್ತಿದ್ದಳೆ\",\"ಯುತ್ತಿದ್ದನೆ\",\"ತ್ತಿದ್ದನ\",\"ತ್ತಿದ್ದನಾ\",\"ತ್ತಿದ್ದಳು\",\"ತ್ತಿದ್ದನು\",\"ತ್ತಿದ್ದಳ\",\"ತ್ತಿದ್ದನ\",\"ತ್ತಿದ್ದಳೆ\",\"ತ್ತಿದ್ದನೆ\"],\n",
    "\n",
    "#PAST PERFECT continuous 1st singular\n",
    "16 : [\"ತ್ತಿದ್ದೆ\",\"ತ್ತಿರಲಿಲ್ಲ\",\"ತ್ತಿದ್ದೆನ\",\"ತ್ತಿದ್ದೆನಾ\"],\n",
    "\n",
    "#past perfect continuous 1st plural\n",
    "17 : [\"ಯುತ್ತಿದ್ದೆವೆ\",\"ತ್ತಿದ್ದೆವೆ\",\"ಯುತ್ತಿದ್ದೆವು\",\"ತ್ತಿದ್ದೆವು\"],\n",
    "\n",
    "#past p continous 2nd\n",
    "18 : [\"ತ್ತಿದ್ದೆ\",\"ತ್ತಿದ್ದೆವು\",\"ತ್ತಿರಲಿಲ್ಲ\",\"ತ್ತಿದ್ದಾ\"], #----- not needed\n",
    "\n",
    "#past p continuous 3rd plural\n",
    "19 : [\"ತ್ತಿದ್ದರು\",\"ತ್ತಿದ್ದರು\"],# -------- not needed\n",
    "\n",
    "#past p continuous 3rd singular\n",
    "20 : [\"ತ್ತಿಲ್ಲ\",\"ತ್ತಿದ್ದಳ\",\"ತ್ತಿದ್ದಳು\",\"ತ್ತಿದ್ದನ\",\"ತ್ತಿದ್ದನು\",\"ತ್ತಿದ್ದಾರೆ\"],\n",
    "\n",
    "#PRESENT TENSE \n",
    "#simple 1st singular\n",
    "21 : [\"ರುತ್ತೆನೆ\",\"ತ್ತೆನೆ\",\"ದಿಲ್ಲ\",\"ಯಲ್ವಾ\"],\n",
    "\n",
    "#simple 1st plural\n",
    "22 : [\"ರುತ್ತೆವೆ\",\"ರುತ್ತೇವೆ\",\"ರುವುದಿಲ್ಲ\",\"ರುತ್ತೇವ\",\"ರುತ್ತೆವ\",\"ತ್ತೆವೆ\",\"ತ್ತೇವೆ\",\"ವುದಿಲ್ಲ\",\"ತ್ತೇವ\",\"ತ್ತೆವ\"],\n",
    "\n",
    "#simple 2nd\n",
    "23 : [\"ತ್ತೀಯ\",\"ವುದಿಲ್ಲ\",\"ತ್ತಿಯ\"],\n",
    "\n",
    "#simple 3rd plural\n",
    "24 : [\"ತ್ತಾರೆ\",\"ತ್ತಾರ\",\"ಯುತ್ತಾರೆ\",\"ಯುತ್ತಾರ\"],\n",
    "\n",
    "#simple 3rd singular\n",
    "25 : [\"ತ್ತಾನೆ\",\"ತ್ತಾಳೆ\",\"ವುದಿಲ್ಲ\",\"ಯುತ್ತಾನೆ\",\"ಯುತ್ತಾಳೆ\",\"ಯುವುದಿಲ್ಲ\"],\n",
    "\n",
    "#Present perfect 1st singular\n",
    "26 : [\"ದ್ದಿನಿ\",\"ದ್ದೆನೆ\",\"ದಿಲ್ಲ\",\"ತ್ತಿದ್ದೆ\",\"ಲ್ಲವ\",\"ದೆನ\"],\n",
    "\n",
    "#present perfect 1st plural\n",
    "27 : [\"ದ್ದೆವೆ\",\"ದ್ದೆವ\"],\n",
    "\n",
    "#present perfect 2nd\n",
    "28 : [\"ಡಿದ್ದೀಯ\"],\n",
    "\n",
    "#present perfect 3rd plural\n",
    "29 : [\"ತ್ತಿದ್ದಾರ\",\"ತ್ತಿದ್ದಾರೆ\"],\n",
    "\n",
    "#present perfect 3rd singular\n",
    "30 : [\"ಯಾಗಿದೆ\",\"ಯಾಗಿಲ್ಲ\"],\n",
    "\n",
    "#present continuous 1st singluar\n",
    "31 : [\"ತ್ತಿದ್ದೆನೆ\",\"ತ್ತೆನೆ\",\"ತ್ತೇನೆ\",\"ತ್ತಿದ್ದೇನೆ\",\"ತ್ತಿಲ್ಲ\",\"ತ್ತಿದ್ದೆನ\"],\n",
    "\n",
    "#present cntinouus 1st plural\n",
    "32 : [\"ತ್ತಿದ್ದೇವೆ\",\"ತ್ತೇವೆ\",\"ತ್ತಿಲ್ಲ\",\"ತ್ತಿದ್ದೇವೆ\",\"ತ್ತಿದ್ದೇವ\"],\n",
    "\n",
    "#present continous 2nd\n",
    "33 : [\"ಯುತ್ತಿದ್ದೀಯ\",\"ಯುತ್ತೀಯ\",\"ಯುತ್ತಿರುವೆ\",\"ಯುತ್ತಿಲ್ಲ\",\"ಯುವುದಿಲ್ಲ\",\"ತ್ತಿದಿಯ\"],\n",
    "\n",
    "#present ocntinuous 3rd plural\n",
    "34 : [\"ತಿದರೆ\",\"ತ್ತಿದ್ದಾರೆ\",\"ತ್ತಿಲ್ಲ\",\"ತ್ತಿದ್ದಾರ\",\"ತಿರುವರ\"],\n",
    "\n",
    "#present continuous 3rd singular\n",
    "35 : [\"ತ್ತಿದ್ದಾನೆ\",\"ತ್ತಿದ್ದಾಳೆ\",\"ತ್ತಾನೆ\",\"ತ್ತಾಳೆ\",\"ತ್ತಿದ್ದಾನ\",\"ತ್ತಿದ್ದಾಳ\",\"ತ್ತಿಲ್ಲ\"],\n",
    "\n",
    "#PRESENT PERFECT continuous tense 1st singular \n",
    "36 : [\"ತ್ತಿದ್ದೀನಿ\",\"ತ್ತಿರುವೆ\",\"ತ್ತಿಲ್ಲ\",\"ತ್ತಿದ್ದೀನಿ\",\"ತ್ತಿಲ್ಲವೆ\",\"ತ್ತಿದ್ದೇನೆ\"],\n",
    "\n",
    "#present perfect continuous tense 1st plural\n",
    "37 : [\"ತ್ತಿದ್ದೇವೆ\",\"ತ್ತಿರುವ\",\"ತ್ತಿರುವೆವು\",\"ತ್ತಿರುವೆವ\",\"ತ್ತಿದ್ದೇವ\",\"ತ್ತಿದೇವ\",\"ತ್ತಿಲ್ಲವ\",\"ತ್ತಿಲ್ಲವಾ\"],\n",
    "\n",
    "#present perfect continuous 2nd\n",
    "38 : [\"ತ್ತಿದೀಯ\",\"ತ್ತಿಲ್ಲ\",\"ತ್ತಿರುವೆಯ\",\"ತ್ತಿದ್ದೆಯ\",\"ತ್ತಿಲ್ಲವ\"],\n",
    "\n",
    "#present perfect continuous 3rd plural\n",
    "39 : [\"ದಲ್ಲಿದೆ\",\"ಯಲ್ಲಿದೆ\",\"ರಲ್ಲಿದೆ\"],\n",
    "\n",
    "#present perfect continuous 3rd singular\n",
    "40 : [\"ತ್ತಿದ್ದಾನೆ\",\"ತ್ತಿದ್ದಾಳೆ\",\"ತ್ತಿದ್ದಾಳ\",\"ತ್ತಿದ್ದಾನೆ\"],\n",
    "\n",
    "41 : [\"ಯಾದರೆ\",\"ಗಾದರೆ\",\"ವುದಾದರೆ\",\"ದಾದರೆ\"],\n",
    "\n",
    "42 : [\"ಯಾಗಿಯೇ\",\"ಗಾಗಿಯೇ\",\"ದಾಗಿಯೇ\",\"ವಾಗಿಯೇ\"],\n",
    "\n",
    "43 : [\"ವಾದರು\",\"ಗಾದರು\",\"ತಾದರು\",\"ದಾದರು\",\"ಯಾದರು\",\"ರಾದರು\",\"ಲಾದರು\",\"ಳಾದರು\",\"ವಾದರೂ\",\"ಗಾದರೂ\",\"ತಾದರೂ\",\"ದಾದರೂ\",\"ಯಾದರೂ\",\"ರಾದರೂ\",\"ಲಾದರರೂ\",\"ಳಾದರೂ\"],\n",
    "\n",
    "44 : [\"ತ್ತಿದ್ದರಂತೆ\",\"ದೊಂದಿಗೆ\",\"ಯೊಂದಿಗೆ\",\"ರೊಂದಿಗೆ\"],\n",
    "\n",
    "45 : [\"ತಾದ್ದನು\",\"ತಾದ್ದಳು\",\"ತಾದ್ದರು\",\"ತಾದ್ದರೂ\",\"ದಾದ್ದನು\",\"ದಾದ್ದಳು\",\"ದಾದ್ದರು\",\"ದಾದ್ದರೂ\"],\n",
    "\n",
    "46 : [\"ಯೊಂದೆ\",\"ವೊಂದೆ\",\"ರೊಂದೆ\",\"ವೊಂದ\",\"ಯೊಂದ\",\"ರೊಂದ\",\"ವುದೇ\"],\n",
    "\n",
    "47 : [\"ಯುವವರ\",\"ರುವವರ\",\"ಸುವವರ\"],\n",
    "\n",
    "48 : [\"ದಲ್ಲೇ\",\"ನಲ್ಲೇ\",\"ನಲ್ಲಿ\",\"ವಲ್ಲಿ\",\"ದಲ್ಲಿ\",\"ದಲ್ಲೂ\",\"ಯಲ್ಲಿ\",\"ರಲ್ಲಿ\",\"ಗಳಲ್ಲಿ\",\"ಳಲ್ಲಿ\",\"ಯಲ್ಲಿನ\"],\n",
    "\n",
    "49 : [\"ವವರು\",\"ಯವರು\",\"ನವರು\",\"ರವರು\",\"ದವರು\",\"ವವ\",\"ಯವ\",\"ನವ\",\"ರವ\",\"ದವ\"],\n",
    "\n",
    "50 : [\"ಗಾಗಿ\",\"ದಾಗಿ\",\"ವಾಗಿ\",\"ರಾಗಿ\",\"ಯಾಗಿ\",\"ತಾಗಿ\",\"ಕ್ಕಾಗಿ\",\"ವಾಗಿದ್ದು\",\"ವಾಗಿದ್ದ\",\"ಗಾಗಿದ್ದು\",\"ಗಾಗಿದ್ದ\",\"ರಾಗಿದ್ದು\",\"ರಾಗಿದ್ದ\",\"ದಾಗಿದ್ದು\",\"ದಾಗಿದ್ದ\",\"ತಾಗಿದ್ದು\",\"ತಾಗಿದ್ದ\"],\n",
    "\n",
    "51 : [\"ರನ್ನ\",\"ನನ್ನ\",\"ಯನ್ನ\"],\n",
    "\n",
    "52 : [\"ರನ್ನು\",\"ವನ್ನು\",\"ಯನ್ನು\",\"ಗಳನ್ನೇ\",\"ಗಳನ್ನು\",\"ಳನ್ನು\",\"ದನ್ನು\"] ,\n",
    "\n",
    "53 : [\"ವಿರುವ\",\"ರುವ\",\"ದ್ದರೆ\",\"ದ್ದಾರೆ\"],\n",
    "\n",
    "54 : [\"ತ್ತಾರಂತೆ\",\"ತ್ತಾಳಂತೆ\",\"ತ್ತಾನಂತೆ\",\"ಗಂತೆ\",\"ದ್ದಂತೆ\",\"ದಂತೆ\",\"ನಂತೆ\",\"ರಂತೆ\",\"ಯಂತೆ\",\"ಗಳಂತೆ\",\"ಳಂತೆ\",\"ವಂತೆ\"],\n",
    "\n",
    "55 : [\"ಗಳೆಂದು\",\"ಗಂ\",\"ದ್ದಂ\",\"ದಂ\",\"ಯಂ\",\"ರಂ\",\"ವಂ\",\"ಗಿಂದ\",\"ದಿಂದ\",\"ಯಿಂದ\",\"ರಿಂದ\",\"ನಿಂದ\"],\n",
    "\n",
    "56 : [\"ನಿಗೆ\",\"ರಿಗೆ\",\"ಯಿಗೆ\",\"ಕೆಗೆ\"],\n",
    "\n",
    "57: [\"ದ್ದೇನೆ\",\"ದ್ದಾನೆ\",\"ದ್ದಾಳೆ\",\"ದ್ದಾರೆ\",\"ದಾಗ\"],\n",
    "\n",
    "58 : [\"ವಿದೆ\" ,\"ದಿದೆ\",\"ತಿದೆ\",\"ಗಿದೆ\"],\n",
    "\n",
    "59 : [\"ತ್ತಿರು\",\"ವೆಂದು\"],\n",
    "\n",
    "60 : [\"ನನ್ನೂ\",\"ಳನ್ನೂ\",\"ರನ್ನೂ\"],\n",
    "\n",
    "61 : [\"ಯಾಯಿತು\", \"ಗಾಯಿತು\",\"ದಾಯಿತು\"],\n",
    "\n",
    "62 : [\"ದ್ದನು\",\"ದ್ದಳು\",\"ಯಿದ್ದರು\",\"ದ್ದರು\",\"ದ್ದರೂ\",\"ಗಳೇ\",\"ಗಳು\",\"ಗಳ\",\"ಗಳಿ\",\"ದಳು\",\"ದಳ\",\"ವೆನು\",\"ವನು\",\"ವೆವು\",\"ವಳು\",\"ವಳ\",\"ವುದು\",\"ಲಾಗು\",\"ಗಳಾದ\",\"ಗಳಿಗೆ\"],\n",
    "\n",
    "63 : [\"ವುದಕ್ಕೆ\",\"ಕ್ಕೆ\",\"ಗ್ಗಿ\",\"ದ್ದಿ\",\"ಲ್ಲಿ\",\"ನ್ನು\",\"ತ್ತು\"],\n",
    "\n",
    "64 : [\"ವಾಯಿತು\",\"ಗಾಯಿತು\",\"ದಾಯಿತು\",\"ತಾಯಿತು\",\"ಲಾಯಿತು\",\"ನಾಯಿತು\"],\n",
    "\n",
    "65 : [\"ವಿದ್ದು\",\"ವೆಂದಾಗ\"],\n",
    "\n",
    "66 : [\"ವನ್ನೇ\",\"ವೇಕೆ\"],\n",
    "\n",
    "67 : [\"ರಾದ\",\"ವಾದ\",\"ಗಾದ\",\"ಯಾದ\",\"ರಾಗುವ\"],\n",
    "\n",
    "68 : [\"ವಾದುದು\", \"ರಾದುದು\",\"ಗಾದುದು\",\"ಯಾದುದು\",\"ದಾದುದು\"],\n",
    "\n",
    "69 : [\"ಯಾರು\",\"ದಾರು\",\"ಗಾರು\",\"ರಾರು\"],\n",
    "\n",
    "70 : [\"ಗಳಿಸಿ\",\"ಗಳಿಸು\",\"ಗಳಿವೆ\",\"ಗಳಿವ\",\"ಗಳಿವು\"],\n",
    "\n",
    "71 :  [\"ಯು\",\"ದ\",\"ವಿಕೆ\",\"ದೇ\",\"ರು\",\"ಳ\",\"ಳೆ\",\"ಲಿದೆ\",\"ದೆ\",\"ರೆ\",\"ಗೆ\",\"ವೆ\",\"ತೆ\",\"ಗೂ\"],\n",
    "\n",
    "72 :  [\"ರದ\",\"ಮದ\",\"ನದ\"],\n",
    "\n",
    "73 :  [\"ಡಲು\",\"ಲಾಗುತ್ತದೆ\",\"ಸಲು\",\"ಸಿದ್ದಾಳೆ\",\"ಸಿದಾಗ\",\"ಸಲು\",\"ಸಿದರು\",\"ಸಿದನು\",\"ಸಿದಳು\",\"ಸಿದ್ದೇ\",\"ಕಿದೀನಿ\"]\n",
    "\n",
    "}\n",
    "\n",
    "\n",
    "add_1 = [\"ು\"]\n",
    "\n",
    "\n",
    "\n",
    "def kannada_root(word, inde):\n",
    "    global flag\n",
    "\n",
    "    #checking for suffixes which needs to be retained\n",
    "    for L in complex_suffixes[72]:\n",
    "        if len(word) > len(L)+1:\n",
    "            if word.endswith(L):\n",
    "                inde.append(72)\n",
    "                return(word[:-(len(L)-1)], inde)\n",
    "\n",
    "    #checking for suffixes which needs to retained and modified \n",
    "    for L in complex_suffixes[73]:\n",
    "        if len(word) > len(L)+1:\n",
    "            if word.endswith(L):\n",
    "                flag=1\n",
    "                word =word[:-(len(L)-1)]\n",
    "                word = word+add_1[0]\n",
    "                inde.append(73)\n",
    "                return(kannada_root(word, inde))   \n",
    "\n",
    "    #checking for suffixes which must be removed    \n",
    "    L=1\n",
    "    while L<=70:\n",
    "        for suffix in complex_suffixes[L]:\n",
    "            if len(word) > len(suffix)+1: \n",
    "                    if word.endswith(suffix):\n",
    "                        flag=1\n",
    "                        inde.append(L)\n",
    "                        return(kannada_root(word[:-(len(suffix))], inde))\n",
    "        L = L+1\n",
    "\n",
    "    #at last checking for remaining suffixes\n",
    "    if flag == 0:\n",
    "        for L in complex_suffixes[71]:\n",
    "            if len(word)-len(L) >len(L)+1:\n",
    "                if word.endswith(L):\n",
    "                    inde.append(71)\n",
    "                    return(word[:-(len(L))], inde)\n",
    "        \n",
    "    return word, inde\n",
    "\n",
    "\n",
    "\n",
    "x=[]\n",
    "with open(\"C:/Users/anany/Desktop/stem.txt\",encoding='utf-8') as file:\n",
    "    for l in file:\n",
    "        x.append(l.strip())\n",
    "num_lines2 = sum(1 for line in open(\"C:/Users/anany/Desktop/stem.txt\",encoding='utf-8'))\n",
    "\n",
    "\n",
    "y = []\n",
    "for j in range(num_lines2):\n",
    "    flag = 0\n",
    "    inde = []\n",
    "    root = x[j]\n",
    "    root, inde = kannada_root(x[j], inde)\n",
    "    print(root , inde)\n",
    "    y.append(root)\n",
    "\n",
    "sent=y[0]\n",
    "\n",
    "#೪೫: ಗಿದ್ದನು\",\"ಗಿದ್ದಳು\",\"ಗಿದ್ದರು\",\"ಗಿದ್ದರೂ\","
   ]
  },
  {
   "cell_type": "code",
   "execution_count": 254,
   "id": "007f0a14",
   "metadata": {},
   "outputs": [],
   "source": [
    "#sub=['ನಾನು','ನಾವು','ನೀನು','ನೀವು','ಅವನು','ಅವಳು','ಅವರು','ಅದು','ಅವು']\n",
    "\n",
    "\n",
    "#verbs=['ಹೋಗು','ನಡೆ','ಬರೆ','ಓದು','ಕುಣಿ']"
   ]
  },
  {
   "cell_type": "code",
   "execution_count": 255,
   "id": "c6f8a70b",
   "metadata": {},
   "outputs": [],
   "source": [
    "# sentence=sent.split()\n",
    "# #sent=[sent.split()]\n",
    "# other=\"\"\n",
    "# subject=\"\"\n",
    "# verb=\"\"\n",
    "\n",
    "# for it in sentence:\n",
    "#     with open(\"C:/Users/anany/Desktop/fyp/src/sub.txt\", 'r', encoding='utf-8') as file:\n",
    "#         for line in file:\n",
    "#             line = line.strip()\n",
    "#             if line == it:\n",
    "#                 subject=it\n",
    "#                 break\n",
    "#     with open(\"C:/Users/anany/Desktop/fyp/src/verbs.txt\", 'r', encoding='utf-8') as file:\n",
    "#         for line in file:\n",
    "#             line = line.strip()\n",
    "#             if line == it:\n",
    "#                 verb=it\n",
    "            \n",
    "#     if it!=subject or it!=verb:\n",
    "#         other+=str(it)\n",
    "#         other+=\" \"\n",
    "        \n",
    "# for it in sentence:\n",
    "#     if str(it)!=subject and str(it)!= verb:\n",
    "#         other+=it\n",
    "#         other+=\" \""
   ]
  },
  {
   "cell_type": "code",
   "execution_count": 36,
   "id": "e76ce993",
   "metadata": {},
   "outputs": [],
   "source": [
    "sentence = sent.split()\n",
    "other = \"\"\n",
    "subject = \"\"\n",
    "verb = \"\"\n",
    "\n",
    "for it in sentence:\n",
    "    with open(\"C:/Users/anany/Desktop/fyp/src/sub.txt\", 'r',encoding='utf-8') as file:\n",
    "        for line in file:\n",
    "            columns = line.strip().split('\\t')\n",
    "            if columns[0] == it:\n",
    "                # Extract values from 2nd, 3rd, and 4th columns\n",
    "                subject = columns[0]\n",
    "                value2 = columns[1]\n",
    "                value3 = columns[2]\n",
    "                value4 = columns[3]\n",
    "                break\n",
    "    with open(\"C:/Users/anany/Desktop/fyp/src/verbs.txt\", 'r', encoding='utf-8') as file:\n",
    "        for line in file:\n",
    "            line = line.strip()\n",
    "            if line == it:\n",
    "                verb=it\n",
    "                break\n",
    "                \n",
    "    \n",
    "for it in sentence:\n",
    "    if str(it)!=subject and str(it)!= verb:\n",
    "        other+=it\n",
    "        other+=\" \""
   ]
  },
  {
   "cell_type": "code",
   "execution_count": 37,
   "id": "b73666b0",
   "metadata": {},
   "outputs": [
    {
     "data": {
      "text/plain": [
       "('M', 'S', 'T')"
      ]
     },
     "execution_count": 37,
     "metadata": {},
     "output_type": "execute_result"
    }
   ],
   "source": [
    "value2,value3, value4"
   ]
  },
  {
   "cell_type": "code",
   "execution_count": 38,
   "id": "c135bdb1",
   "metadata": {},
   "outputs": [
    {
     "data": {
      "text/plain": [
       "('ಅವನು', 'ಹೋಗು')"
      ]
     },
     "execution_count": 38,
     "metadata": {},
     "output_type": "execute_result"
    }
   ],
   "source": [
    "subject,verb"
   ]
  },
  {
   "cell_type": "code",
   "execution_count": 39,
   "id": "73ad724a",
   "metadata": {},
   "outputs": [
    {
     "data": {
      "text/plain": [
       "''"
      ]
     },
     "execution_count": 39,
     "metadata": {},
     "output_type": "execute_result"
    }
   ],
   "source": [
    "other"
   ]
  },
  {
   "cell_type": "code",
   "execution_count": 40,
   "id": "03630b5e",
   "metadata": {},
   "outputs": [
    {
     "data": {
      "text/plain": [
       "''"
      ]
     },
     "execution_count": 40,
     "metadata": {},
     "output_type": "execute_result"
    }
   ],
   "source": [
    "other=other.rsplit(' ', 3)[0]\n",
    "other"
   ]
  },
  {
   "cell_type": "code",
   "execution_count": 259,
   "id": "2f7e8a12",
   "metadata": {},
   "outputs": [],
   "source": [
    "singular=['ನಾನು','ನೀನು','ಅವನು','ಅವಳು','ಅದು','ಹುಡುಗ','ಅಜ್ಜ','ಅಪ್ಪ','ಕವಿ','ಶಿಕ್ಷಕ','ಅಧ್ಯಾಪಕ','ವೈದ್ಯ','ನೌಕರ','ಅಣ್ಣ','ತಮ್ಮ','ಚಿಕ್ಕಪ್ಪ','ದೊಡ್ಡಪ್ಪ','ಬಾಲಕ','ಚಾಲಕ','ಮಗು','ಹಣ್ಣು']\n",
    "plural=['ನಾವು','ನೀವು','ಅವರು','ಅವು','ಮಕ್ಕಳು','ಹಿರಿಯರು','ಹುಡುಗರು','ಅಜ್ಜಂದಿರು','ಅಪ್ಪಂದಿರು','ಕವಿಗಳು','ಶಿಕ್ಷಕರು','ಅಧ್ಯಾಪಕರು','ವೈದ್ಯರು','ನೌಕರರು','ಅಣ್ಣಂದಿರು','ತಮ್ಮಂದಿರು','ಹಣ್ಣುಗಳು']"
   ]
  },
  {
   "cell_type": "code",
   "execution_count": 260,
   "id": "c56fbc60",
   "metadata": {},
   "outputs": [],
   "source": [
    "first_p=['ನಾನು','ನಾವು']\n",
    "second_p=['ನೀನು','ನೀವು']\n",
    "third_p=['ಅವನು','ಅವಳು','ಅವರು','ಅದು','ಅವು','ಹುಡುಗ','ಅಜ್ಜ','ಅಪ್ಪ','ಕವಿ','ಶಿಕ್ಷಕ','ಅಧ್ಯಾಪಕ','ವೈದ್ಯ','ನೌಕರ','ಅಣ್ಣ','ತಮ್ಮ','ಚಿಕ್ಕಪ್ಪ','ದೊಡ್ಡಪ್ಪ','ಬಾಲಕ','ಚಾಲಕ','ಮಗು','ಹಣ್ಣು','ಮಕ್ಕಳು','ಹಿರಿಯರು','ಹುಡುಗರು','ಅಜ್ಜಂದಿರು','ಅಪ್ಪಂದಿರು','ಕವಿಗಳು','ಶಿಕ್ಷಕರು','ಅಧ್ಯಾಪಕರು','ವೈದ್ಯರು','ನೌಕರರು','ಅಣ್ಣಂದಿರು','ತಮ್ಮಂದಿರು','ಹಣ್ಣುಗಳು']"
   ]
  },
  {
   "cell_type": "code",
   "execution_count": 261,
   "id": "05c5eab9",
   "metadata": {},
   "outputs": [],
   "source": [
    "male=['ಅವನು','ಅವರು','ಹುಡುಗ','ಅಜ್ಜ','ಅಪ್ಪ','ಕವಿ','ಶಿಕ್ಷಕ','ಅಧ್ಯಾಪಕ','ವೈದ್ಯ','ನೌಕರ','ಅಣ್ಣ','ತಮ್ಮ','ಚಿಕ್ಕಪ್ಪ','ದೊಡ್ಡಪ್ಪ','ಬಾಲಕ','ಚಾಲಕ','ಮಕ್ಕಳು','ಹಿರಿಯರು','ಹುಡುಗರು','ಅಜ್ಜಂದಿರು','ಅಪ್ಪಂದಿರು','ಕವಿಗಳು','ಶಿಕ್ಷಕರು','ಅಧ್ಯಾಪಕರು','ವೈದ್ಯರು','ನೌಕರರು','ಅಣ್ಣಂದಿರು','ತಮ್ಮಂದಿರು','ಹಣ್ಣುಗಳು']\n",
    "female=['ಅವಳು','ಅವರು','ಹುಡುಗಿ','ಅಜ್ಜಿ','ಅಮ್ಮ','ಕವಯಿತ್ರಿ','ಶಿಕ್ಷಕಿ','ಅಧ್ಯಾಪಕಿ','ವೈದ್ಯೆ','ಅಕ್ಕ','ತಂಗಿ','ಚಿಕ್ಕಮ್ಮ','ದೊಡ್ಡಮ್ಮ','ಬಾಲಕಿ','ಚಾಲಕಿ']"
   ]
  },
  {
   "cell_type": "code",
   "execution_count": 41,
   "id": "3bd55c84",
   "metadata": {},
   "outputs": [],
   "source": [
    "# if verb in second:\n",
    "#     verb+='ಯು'\n",
    "\n",
    "if value2 == 'F' and value3 == 'S' and value4 == 'T':\n",
    "    ans1 = verb + 'ತ್ತಾಳೆ'\n",
    "    ans2 = verb + 'ತ್ತಿದ್ದಾಳೆ'\n",
    "    ans3 = verb + 'ವಳು'\n",
    "    \n",
    "elif value2 == 'F' and value3 == 'P' and value4 == 'T':\n",
    "    ans1 = verb + 'ತ್ತಾರೆ'\n",
    "    ans2 = verb + 'ತ್ತಿದ್ದಾರೆ'\n",
    "    ans3 = verb + 'ವರು'\n",
    "\n",
    "elif value2 == 'M' and value3 == 'S' and value4 == 'T':\n",
    "    ans1 = verb + 'ತ್ತಾನೆ'\n",
    "    ans2 = verb + 'ತ್ತಿದ್ದಾನೆ'\n",
    "    ans3 = verb + 'ವನು'\n",
    "    \n",
    "elif value2 == 'M' and value3 == 'P' and value4 == 'T':\n",
    "    ans1 = verb + 'ತ್ತಾರೆ'\n",
    "    ans2 = verb + 'ತ್ತಿದ್ದಾರೆ'\n",
    "    ans3 = verb + 'ವರು'\n",
    "\n",
    "elif value2 == 'N' and value3 == 'S' and value4 == 'T':\n",
    "    ans1 = verb + 'ತ್ತದೆ'\n",
    "    ans2 = verb + 'ತ್ತಿದೆ'\n",
    "    ans3 = verb + 'ವುದು'\n",
    "\n",
    "elif value2 == 'N' and value3 == 'P' and value4 == 'T':\n",
    "    ans1 = verb + 'ತ್ತವೆ'\n",
    "    ans2 = verb + 'ತ್ತಿವೆ'\n",
    "    ans3 = verb + 'ವವು'\n",
    "\n",
    "elif value2 == 'G' and value3 == 'S' and value4 == 'T':\n",
    "    ans1 = verb + 'ತ್ತಾನೆ'\n",
    "    ans2 = verb + 'ತ್ತಿದ್ದಾನೆ'\n",
    "    ans3 = verb + 'ವನು'\n",
    "\n",
    "elif value2 == 'G' and value3 == 'P' and value4 == 'T':\n",
    "    ans1 = verb + 'ತ್ತಾರೆ'\n",
    "    ans2 = verb + 'ತ್ತಿದ್ದಾರೆ'\n",
    "    ans3 = verb + 'ವರು'"
   ]
  },
  {
   "cell_type": "code",
   "execution_count": 42,
   "id": "3bf1a770",
   "metadata": {},
   "outputs": [
    {
     "data": {
      "text/plain": [
       "'ಹೋಗುತ್ತಾನೆ'"
      ]
     },
     "execution_count": 42,
     "metadata": {},
     "output_type": "execute_result"
    }
   ],
   "source": [
    "ans1"
   ]
  },
  {
   "cell_type": "code",
   "execution_count": 43,
   "id": "f952c4c2",
   "metadata": {},
   "outputs": [
    {
     "data": {
      "text/plain": [
       "'ಹೋಗುತ್ತಿದ್ದಾನೆ'"
      ]
     },
     "execution_count": 43,
     "metadata": {},
     "output_type": "execute_result"
    }
   ],
   "source": [
    "ans2"
   ]
  },
  {
   "cell_type": "code",
   "execution_count": 44,
   "id": "dcb9aa48",
   "metadata": {},
   "outputs": [
    {
     "data": {
      "text/plain": [
       "'ಹೋಗುವನು'"
      ]
     },
     "execution_count": 44,
     "metadata": {},
     "output_type": "execute_result"
    }
   ],
   "source": [
    "ans3"
   ]
  },
  {
   "cell_type": "code",
   "execution_count": 265,
   "id": "75700fa5",
   "metadata": {},
   "outputs": [],
   "source": [
    "sent1=subject+\" \"+other+ans1"
   ]
  },
  {
   "cell_type": "code",
   "execution_count": 266,
   "id": "8fab6df7",
   "metadata": {},
   "outputs": [
    {
     "data": {
      "text/plain": [
       "'ಅವನು ಹೋಗುತ್ತಾನೆ'"
      ]
     },
     "execution_count": 266,
     "metadata": {},
     "output_type": "execute_result"
    }
   ],
   "source": [
    "sent1"
   ]
  },
  {
   "cell_type": "code",
   "execution_count": 267,
   "id": "b6045d43",
   "metadata": {},
   "outputs": [],
   "source": [
    "sent2=subject+\" \"+other+ans2"
   ]
  },
  {
   "cell_type": "code",
   "execution_count": 268,
   "id": "d51cf8eb",
   "metadata": {},
   "outputs": [
    {
     "data": {
      "text/plain": [
       "'ಅವನು ಹೋಗುವನು'"
      ]
     },
     "execution_count": 268,
     "metadata": {},
     "output_type": "execute_result"
    }
   ],
   "source": [
    "sent2"
   ]
  },
  {
   "cell_type": "code",
   "execution_count": null,
   "id": "47bcaf40",
   "metadata": {},
   "outputs": [],
   "source": [
    " "
   ]
  },
  {
   "cell_type": "code",
   "execution_count": null,
   "id": "81ed1033",
   "metadata": {},
   "outputs": [],
   "source": []
  },
  {
   "cell_type": "code",
   "execution_count": null,
   "id": "0c3353b5",
   "metadata": {},
   "outputs": [],
   "source": []
  }
 ],
 "metadata": {
  "kernelspec": {
   "display_name": "Python 3 (ipykernel)",
   "language": "python",
   "name": "python3"
  },
  "language_info": {
   "codemirror_mode": {
    "name": "ipython",
    "version": 3
   },
   "file_extension": ".py",
   "mimetype": "text/x-python",
   "name": "python",
   "nbconvert_exporter": "python",
   "pygments_lexer": "ipython3",
   "version": "3.8.16"
  }
 },
 "nbformat": 4,
 "nbformat_minor": 5
}
