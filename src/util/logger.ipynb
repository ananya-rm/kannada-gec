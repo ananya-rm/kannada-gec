{
 "cells": [
  {
   "cell_type": "code",
   "execution_count": 1,
   "id": "3d3bc869",
   "metadata": {},
   "outputs": [],
   "source": [
    "import sys\n",
    "import os\n",
    "import logging\n",
    "from logging import handlers"
   ]
  },
  {
   "cell_type": "code",
   "execution_count": 2,
   "id": "b9d44899",
   "metadata": {},
   "outputs": [],
   "source": [
    "def configure_logging():\n",
    "    LOG_FORMAT = '%(asctime)s :: %(name)-13s: %(levelname)-8s %(message)s'\n",
    "    LOG_FILE = 'logs/run.log'\n",
    "    log_dir = os.path.dirname(LOG_FILE)\n",
    "    if not os.path.exists(log_dir):\n",
    "        os.makedirs(log_dir)\n",
    "\n",
    "    LOG_LEVEL = logging.INFO\n",
    "    formater = logging.Formatter(LOG_FORMAT)\n",
    "    logging.getLogger().setLevel(logging.NOTSET)\n",
    "\n",
    "    # Add console handler\n",
    "    console = logging.StreamHandler(sys.stdout)\n",
    "    console.setLevel(LOG_LEVEL)\n",
    "    console.setFormatter(formater)\n",
    "    logging.getLogger().addHandler(console)\n",
    "\n",
    "    # Add file rotating handler\n",
    "    rotatingHandler = handlers.RotatingFileHandler(filename=LOG_FILE, maxBytes=1000000, backupCount=20)\n",
    "    rotatingHandler.setLevel(LOG_LEVEL)\n",
    "    rotatingHandler.setFormatter(formater)\n",
    "    logging.getLogger().addHandler(rotatingHandler)\n",
    "\n",
    "    suppress_import_modules = [\"torch\", \"transformers\"]\n",
    "    for module_name in suppress_import_modules:\n",
    "        logging.getLogger(module_name).setLevel(logging.WARNING)\n",
    "\n",
    "    logging.info('Configured the logging successfully')"
   ]
  },
  {
   "cell_type": "code",
   "execution_count": 3,
   "id": "515a54cb",
   "metadata": {},
   "outputs": [
    {
     "name": "stdout",
     "output_type": "stream",
     "text": [
      "2024-02-11 18:32:49,668 :: root         : INFO     Configured the logging successfully\n"
     ]
    }
   ],
   "source": [
    "configure_logging()\n"
   ]
  },
  {
   "cell_type": "code",
   "execution_count": null,
   "id": "57b450e1",
   "metadata": {},
   "outputs": [],
   "source": []
  }
 ],
 "metadata": {
  "kernelspec": {
   "display_name": "Python 3 (ipykernel)",
   "language": "python",
   "name": "python3"
  },
  "language_info": {
   "codemirror_mode": {
    "name": "ipython",
    "version": 3
   },
   "file_extension": ".py",
   "mimetype": "text/x-python",
   "name": "python",
   "nbconvert_exporter": "python",
   "pygments_lexer": "ipython3",
   "version": "3.8.16"
  }
 },
 "nbformat": 4,
 "nbformat_minor": 5
}
