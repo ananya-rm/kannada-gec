{
 "cells": [
  {
   "cell_type": "code",
   "execution_count": 3,
   "id": "c3afba57",
   "metadata": {},
   "outputs": [
    {
     "name": "stdout",
     "output_type": "stream",
     "text": [
      "Requirement already satisfied: Cyhunspell in c:\\users\\anany\\anaconda3\\lib\\site-packages (2.0.2)\n",
      "Requirement already satisfied: cacheman>=2.0.6 in c:\\users\\anany\\anaconda3\\lib\\site-packages (from Cyhunspell) (2.2.0)\n",
      "Requirement already satisfied: psutil>=2.1.0 in c:\\users\\anany\\anaconda3\\lib\\site-packages (from cacheman>=2.0.6->Cyhunspell) (5.9.0)\n",
      "Note: you may need to restart the kernel to use updated packages.\n"
     ]
    }
   ],
   "source": [
    "pip install Cyhunspell"
   ]
  },
  {
   "cell_type": "code",
   "execution_count": 6,
   "id": "536fd112",
   "metadata": {},
   "outputs": [
    {
     "name": "stdout",
     "output_type": "stream",
     "text": [
      "Original:  ಪ್ರತಿಭೂ  ಹೊಗುತ್ತೇನೆ \n",
      "Corrected: ಪ್ರತಿಭೆ ಹೋಗುತ್ತೇನೆ\n"
     ]
    }
   ],
   "source": [
    "from hunspell import Hunspell\n",
    "\n",
    "def correct_spellings_kannada_hunspell(text, dict_path=\"C:/Users/anany/Desktop/project/kn\"):\n",
    "    # Initialize Hunspell with the Kannada dictionary\n",
    "    kannada_dict_path = \"C:/Users/anany/Desktop/dictionary/kn\"\n",
    "    kannada_affix_path = \"C:/Users/anany/Desktop/dictionary/kn\"\n",
    "    kannada_spell_checker = Hunspell(kannada_affix_path, kannada_dict_path)\n",
    "\n",
    "    # Tokenize the text into words\n",
    "    words = text.split()\n",
    "\n",
    "    corrected_words = []\n",
    "\n",
    "    for word in words:\n",
    "        # Check if the word is misspelled and suggest corrections\n",
    "        if not kannada_spell_checker.spell(word):\n",
    "            suggestions = kannada_spell_checker.suggest(word)\n",
    "            if suggestions:\n",
    "                corrected_word = suggestions[0]\n",
    "                corrected_words.append(corrected_word)\n",
    "            else:\n",
    "                corrected_words.append(word)\n",
    "        else:\n",
    "            corrected_words.append(word)\n",
    "\n",
    "    # Join the corrected words back into a sentence\n",
    "    corrected_text = ' '.join(corrected_words)\n",
    "\n",
    "    return corrected_text\n",
    "\n",
    "\n",
    "kannada_text = \"ಪ್ರತಿಭೂ  ಹೊಗುತ್ತೇನೆ \"\n",
    "corrected_text = correct_spellings_kannada_hunspell(kannada_text)\n",
    "print(\"Original: \", kannada_text)\n",
    "print(\"Corrected:\", corrected_text)\n"
   ]
  },
  {
   "cell_type": "code",
   "execution_count": null,
   "id": "38ac7bb4",
   "metadata": {},
   "outputs": [],
   "source": []
  }
 ],
 "metadata": {
  "kernelspec": {
   "display_name": "Python 3 (ipykernel)",
   "language": "python",
   "name": "python3"
  },
  "language_info": {
   "codemirror_mode": {
    "name": "ipython",
    "version": 3
   },
   "file_extension": ".py",
   "mimetype": "text/x-python",
   "name": "python",
   "nbconvert_exporter": "python",
   "pygments_lexer": "ipython3",
   "version": "3.8.16"
  }
 },
 "nbformat": 4,
 "nbformat_minor": 5
}
